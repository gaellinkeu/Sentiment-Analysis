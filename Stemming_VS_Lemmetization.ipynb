{
  "cells": [
    {
      "cell_type": "markdown",
      "metadata": {
        "id": "view-in-github",
        "colab_type": "text"
      },
      "source": [
        "<a href=\"https://colab.research.google.com/github/gaellinkeu/Sentiment-Analysis/blob/main/Stemming_VS_Lemmetization.ipynb\" target=\"_parent\"><img src=\"https://colab.research.google.com/assets/colab-badge.svg\" alt=\"Open In Colab\"/></a>"
      ]
    },
    {
      "cell_type": "markdown",
      "metadata": {
        "id": "5DgK1EnPhHEZ"
      },
      "source": [
        "# Stemming VS Lemmatization"
      ]
    },
    {
      "cell_type": "markdown",
      "metadata": {
        "id": "JMb364qShHEf"
      },
      "source": [
        "## Import Libraries"
      ]
    },
    {
      "cell_type": "code",
      "execution_count": 2,
      "metadata": {
        "id": "7HfBfNnBhHEg"
      },
      "outputs": [],
      "source": [
        "import re\n",
        "from nltk.corpus import stopwords\n",
        "from nltk.stem import SnowballStemmer\n",
        "from nltk.tokenize import word_tokenize\n",
        "from nltk.stem.wordnet import WordNetLemmatizer\n",
        "from nltk import pos_tag"
      ]
    },
    {
      "cell_type": "code",
      "execution_count": 3,
      "metadata": {
        "colab": {
          "base_uri": "https://localhost:8080/"
        },
        "id": "26wXdwqJhHEl",
        "outputId": "03c6431e-58d7-4f06-dbc9-104b8da80f80"
      },
      "outputs": [
        {
          "output_type": "stream",
          "name": "stderr",
          "text": [
            "[nltk_data] Downloading package punkt_tab to /root/nltk_data...\n",
            "[nltk_data]   Unzipping tokenizers/punkt_tab.zip.\n",
            "[nltk_data] Downloading package punkt to /root/nltk_data...\n",
            "[nltk_data]   Unzipping tokenizers/punkt.zip.\n"
          ]
        },
        {
          "output_type": "execute_result",
          "data": {
            "text/plain": [
              "True"
            ]
          },
          "metadata": {},
          "execution_count": 3
        }
      ],
      "source": [
        "import nltk\n",
        "nltk.download('punkt_tab')\n",
        "nltk.download('punkt')\n",
        "# nltk.download('stopwords')\n",
        "# stop = stopwords.words('english')\n",
        "\n",
        "# nltk.download('averaged_perceptron_tagger')\n",
        "# posTag = pos_tag('I am learning Python'.split())\n",
        "# print(posTag)"
      ]
    },
    {
      "cell_type": "code",
      "execution_count": 4,
      "metadata": {
        "colab": {
          "base_uri": "https://localhost:8080/"
        },
        "id": "e8oegpMVhHEo",
        "outputId": "4e1f91d8-a6fb-4e4b-bedd-829e0d6a3094"
      },
      "outputs": [
        {
          "output_type": "execute_result",
          "data": {
            "text/plain": [
              "['kids',\n",
              " 'were',\n",
              " 'sitting',\n",
              " 'on',\n",
              " 'dirty',\n",
              " 'benches',\n",
              " 'while',\n",
              " 'their',\n",
              " 'parents',\n",
              " 'are',\n",
              " 'busily',\n",
              " 'working']"
            ]
          },
          "metadata": {},
          "execution_count": 4
        }
      ],
      "source": [
        "sentence = 'kids were sitting on dirty benches while their parents are busily working'\n",
        "sentence_words = nltk.word_tokenize(sentence)\n",
        "sentence_words"
      ]
    },
    {
      "cell_type": "markdown",
      "metadata": {
        "id": "v9LSt1p-hHEp"
      },
      "source": [
        "## Stemming"
      ]
    },
    {
      "cell_type": "code",
      "execution_count": 5,
      "metadata": {
        "colab": {
          "base_uri": "https://localhost:8080/"
        },
        "id": "3ZoBYSS3hHEp",
        "outputId": "2eb7a337-6484-4ae6-ca10-8ffeb717c52e"
      },
      "outputs": [
        {
          "output_type": "stream",
          "name": "stdout",
          "text": [
            "['kid', 'were', 'sit', 'on', 'dirti', 'bench', 'while', 'their', 'parent', 'are', 'busili', 'work']\n"
          ]
        }
      ],
      "source": [
        "stemmer = SnowballStemmer(language='english')\n",
        "\n",
        "stemmed_words = [stemmer.stem(word) for word in sentence_words]\n",
        "print(stemmed_words)\n",
        "\n",
        "# stemming()"
      ]
    },
    {
      "cell_type": "markdown",
      "metadata": {
        "id": "OpnD0dnOhHEr"
      },
      "source": [
        "## Lemmatization"
      ]
    },
    {
      "cell_type": "code",
      "execution_count": 6,
      "metadata": {
        "colab": {
          "base_uri": "https://localhost:8080/"
        },
        "id": "I8sw8ik9hHEs",
        "outputId": "6dfcc455-3cf4-46a0-f2ab-73425c104488"
      },
      "outputs": [
        {
          "output_type": "stream",
          "name": "stderr",
          "text": [
            "[nltk_data] Downloading package wordnet to /root/nltk_data...\n"
          ]
        },
        {
          "output_type": "stream",
          "name": "stdout",
          "text": [
            "kids ---> kid\n",
            "were ---> were\n",
            "sitting ---> sitting\n",
            "on ---> on\n",
            "dirty ---> dirty\n",
            "benches ---> bench\n",
            "while ---> while\n",
            "their ---> their\n",
            "parents ---> parent\n",
            "are ---> are\n",
            "busily ---> busily\n",
            "working ---> working\n"
          ]
        }
      ],
      "source": [
        "nltk.download('wordnet')\n",
        "from nltk.stem import WordNetLemmatizer\n",
        "wordnet_lemmatizer = WordNetLemmatizer()\n",
        "\n",
        "for words in sentence_words:\n",
        "    print(words + \" ---> \" + wordnet_lemmatizer.lemmatize(words))\n"
      ]
    },
    {
      "cell_type": "markdown",
      "metadata": {
        "id": "XuzQZxANhHEt"
      },
      "source": [
        "## Lemmatization (with POS tag)"
      ]
    },
    {
      "cell_type": "code",
      "execution_count": 10,
      "metadata": {
        "colab": {
          "base_uri": "https://localhost:8080/"
        },
        "id": "QuypXOavhHEu",
        "outputId": "e26eb963-77c3-484f-d2f7-72e541fbb929"
      },
      "outputs": [
        {
          "output_type": "stream",
          "name": "stdout",
          "text": [
            "[('kids', 'NNS'), ('were', 'VBD'), ('sitting', 'VBG'), ('on', 'IN'), ('dirty', 'NN'), ('benches', 'NNS'), ('while', 'IN'), ('their', 'PRP$'), ('parents', 'NNS'), ('are', 'VBP'), ('busily', 'RB'), ('working', 'VBG')]\n",
            "kids ---> kid\n",
            "were ---> were\n",
            "sitting ---> sitting\n",
            "on ---> on\n",
            "dirty ---> dirty\n",
            "benches ---> bench\n",
            "while ---> while\n",
            "their ---> their\n",
            "parents ---> parent\n",
            "are ---> are\n",
            "busily ---> busily\n",
            "working ---> working\n"
          ]
        },
        {
          "output_type": "stream",
          "name": "stderr",
          "text": [
            "[nltk_data] Downloading package averaged_perceptron_tagger to\n",
            "[nltk_data]     /root/nltk_data...\n",
            "[nltk_data]   Package averaged_perceptron_tagger is already up-to-\n",
            "[nltk_data]       date!\n"
          ]
        }
      ],
      "source": [
        "nltk.download('averaged_perceptron_tagger')\n",
        "from nltk.corpus import wordnet\n",
        "from nltk import pos_tag\n",
        "\n",
        "def get_wordnet_pos(treebank_tag):\n",
        "\n",
        "    if treebank_tag[0] == 'J':\n",
        "        return wordnet.ADJ\n",
        "    elif treebank_tag[0] == 'V':\n",
        "        return wordnet.VERB\n",
        "    elif treebank_tag[0] == 'N':\n",
        "        return wordnet.NOUN\n",
        "    elif treebank_tag[0] == 'R':\n",
        "        return wordnet.ADV\n",
        "    else:\n",
        "        return ''\n",
        "\n",
        "pos_tagged_words = pos_tag(sentence_words)\n",
        "print(pos_tagged_words)\n",
        "\n",
        "wordnet_tagged = list(map(lambda x: (x[0], get_wordnet_pos(x[1])), pos_tagged_words))\n",
        "\n",
        "wordnet_lemmatizer = WordNetLemmatizer()\n",
        "for words in sentence_words:\n",
        "    print(words + \" ---> \" + wordnet_lemmatizer.lemmatize(words))"
      ]
    }
  ],
  "metadata": {
    "kernelspec": {
      "display_name": "Python 3",
      "language": "python",
      "name": "python3"
    },
    "language_info": {
      "codemirror_mode": {
        "name": "ipython",
        "version": 3
      },
      "file_extension": ".py",
      "mimetype": "text/x-python",
      "name": "python",
      "nbconvert_exporter": "python",
      "pygments_lexer": "ipython3",
      "version": "3.11.4"
    },
    "colab": {
      "provenance": [],
      "include_colab_link": true
    }
  },
  "nbformat": 4,
  "nbformat_minor": 0
}