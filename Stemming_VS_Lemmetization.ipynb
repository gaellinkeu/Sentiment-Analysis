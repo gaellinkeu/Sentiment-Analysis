{
  "cells": [
    {
      "cell_type": "markdown",
      "metadata": {
        "id": "view-in-github",
        "colab_type": "text"
      },
      "source": [
        "<a href=\"https://colab.research.google.com/github/gaellinkeu/Sentiment-Analysis/blob/main/Stemming_VS_Lemmetization.ipynb\" target=\"_parent\"><img src=\"https://colab.research.google.com/assets/colab-badge.svg\" alt=\"Open In Colab\"/></a>"
      ]
    },
    {
      "cell_type": "markdown",
      "metadata": {
        "id": "5DgK1EnPhHEZ"
      },
      "source": [
        "# Stemming VS Lemmatization"
      ]
    },
    {
      "cell_type": "markdown",
      "metadata": {
        "id": "JMb364qShHEf"
      },
      "source": [
        "## Import Libraries"
      ]
    },
    {
      "cell_type": "code",
      "execution_count": 12,
      "metadata": {
        "colab": {
          "base_uri": "https://localhost:8080/"
        },
        "id": "7HfBfNnBhHEg",
        "outputId": "57f66260-2dca-47d7-f9c2-383caf70267a"
      },
      "outputs": [
        {
          "output_type": "stream",
          "name": "stderr",
          "text": [
            "[nltk_data] Downloading package punkt to /root/nltk_data...\n",
            "[nltk_data]   Package punkt is already up-to-date!\n",
            "[nltk_data] Downloading package averaged_perceptron_tagger to\n",
            "[nltk_data]     /root/nltk_data...\n",
            "[nltk_data]   Package averaged_perceptron_tagger is already up-to-\n",
            "[nltk_data]       date!\n",
            "[nltk_data] Downloading package wordnet to /root/nltk_data...\n",
            "[nltk_data]   Package wordnet is already up-to-date!\n"
          ]
        },
        {
          "output_type": "execute_result",
          "data": {
            "text/plain": [
              "True"
            ]
          },
          "metadata": {},
          "execution_count": 12
        }
      ],
      "source": [
        "# Natural Language Tool Kit (nltk)\n",
        "import nltk\n",
        "\n",
        "# Stemming method\n",
        "from nltk.stem import SnowballStemmer\n",
        "\n",
        "# tokenize\n",
        "from nltk.tokenize import word_tokenize\n",
        "nltk.download('punkt')\n",
        "\n",
        "# Part Of Speech (POS) Tag\n",
        "from nltk import pos_tag\n",
        "nltk.download('averaged_perceptron_tagger')\n",
        "from nltk.corpus import wordnet\n",
        "\n",
        "# lemmatize method\n",
        "from nltk.stem.wordnet import WordNetLemmatizer\n",
        "nltk.download('wordnet')"
      ]
    },
    {
      "cell_type": "code",
      "execution_count": 7,
      "metadata": {
        "colab": {
          "base_uri": "https://localhost:8080/"
        },
        "id": "e8oegpMVhHEo",
        "outputId": "9292a4da-ed93-4fcc-ffd9-3e82139a18dc"
      },
      "outputs": [
        {
          "output_type": "execute_result",
          "data": {
            "text/plain": [
              "['kids',\n",
              " 'were',\n",
              " 'sitting',\n",
              " 'on',\n",
              " 'dirty',\n",
              " 'benches',\n",
              " 'while',\n",
              " 'their',\n",
              " 'parents',\n",
              " 'are',\n",
              " 'busily',\n",
              " 'working']"
            ]
          },
          "metadata": {},
          "execution_count": 7
        }
      ],
      "source": [
        "sentence = 'kids were sitting on dirty benches while their parents are busily working'\n",
        "sentence_words = nltk.word_tokenize(sentence)\n",
        "sentence_words"
      ]
    },
    {
      "cell_type": "markdown",
      "metadata": {
        "id": "v9LSt1p-hHEp"
      },
      "source": [
        "## Stemming"
      ]
    },
    {
      "cell_type": "code",
      "execution_count": 11,
      "metadata": {
        "colab": {
          "base_uri": "https://localhost:8080/"
        },
        "id": "3ZoBYSS3hHEp",
        "outputId": "e0bf6506-c836-47d0-d179-7134b628cad3"
      },
      "outputs": [
        {
          "output_type": "stream",
          "name": "stdout",
          "text": [
            "kids ---> kid\n",
            "were ---> were\n",
            "sitting ---> sit\n",
            "on ---> on\n",
            "dirty ---> dirti\n",
            "benches ---> bench\n",
            "while ---> while\n",
            "their ---> their\n",
            "parents ---> parent\n",
            "are ---> are\n",
            "busily ---> busili\n",
            "working ---> work\n"
          ]
        }
      ],
      "source": [
        "# Initialize stemming method\n",
        "stemmer = SnowballStemmer(language='english')\n",
        "\n",
        "# Stemming on tokens (words)\n",
        "for words in sentence_words:\n",
        "    print(words + \" ---> \" + stemmer.stem(words))"
      ]
    },
    {
      "cell_type": "markdown",
      "metadata": {
        "id": "OpnD0dnOhHEr"
      },
      "source": [
        "## Lemmatization"
      ]
    },
    {
      "cell_type": "code",
      "execution_count": 10,
      "metadata": {
        "colab": {
          "base_uri": "https://localhost:8080/"
        },
        "id": "I8sw8ik9hHEs",
        "outputId": "871da96a-8f8b-4833-a5d0-1856c7f55ecd"
      },
      "outputs": [
        {
          "output_type": "stream",
          "name": "stdout",
          "text": [
            "kids ---> kid\n",
            "were ---> were\n",
            "sitting ---> sitting\n",
            "on ---> on\n",
            "dirty ---> dirty\n",
            "benches ---> bench\n",
            "while ---> while\n",
            "their ---> their\n",
            "parents ---> parent\n",
            "are ---> are\n",
            "busily ---> busily\n",
            "working ---> working\n"
          ]
        }
      ],
      "source": [
        "# Initialize lemmatization method\n",
        "wordnet_lemmatizer = WordNetLemmatizer()\n",
        "\n",
        "# Stemming on tokens (words)\n",
        "for words in sentence_words:\n",
        "    print(words + \" ---> \" + wordnet_lemmatizer.lemmatize(words))"
      ]
    },
    {
      "cell_type": "markdown",
      "metadata": {
        "id": "XuzQZxANhHEt"
      },
      "source": [
        "## Lemmatization (with POS tag)"
      ]
    },
    {
      "cell_type": "code",
      "execution_count": 14,
      "metadata": {
        "colab": {
          "base_uri": "https://localhost:8080/"
        },
        "id": "QuypXOavhHEu",
        "outputId": "362f065e-86ae-4d58-d9e0-658e1a2b036d"
      },
      "outputs": [
        {
          "output_type": "stream",
          "name": "stdout",
          "text": [
            "[('kids', 'NNS'), ('were', 'VBD'), ('sitting', 'VBG'), ('on', 'IN'), ('dirty', 'NN'), ('benches', 'NNS'), ('while', 'IN'), ('their', 'PRP$'), ('parents', 'NNS'), ('are', 'VBP'), ('busily', 'RB'), ('working', 'VBG')]\n",
            "kids ---> kid\n",
            "were ---> were\n",
            "sitting ---> sitting\n",
            "on ---> on\n",
            "dirty ---> dirty\n",
            "benches ---> bench\n",
            "while ---> while\n",
            "their ---> their\n",
            "parents ---> parent\n",
            "are ---> are\n",
            "busily ---> busily\n",
            "working ---> working\n"
          ]
        }
      ],
      "source": [
        "# convert pos_tag formats to wordnet tags formats\n",
        "def get_wordnet_pos(treebank_tag):\n",
        "    if treebank_tag[0] == 'J':\n",
        "        return wordnet.ADJ\n",
        "    elif treebank_tag[0] == 'V':\n",
        "        return wordnet.VERB\n",
        "    elif treebank_tag[0] == 'N':\n",
        "        return wordnet.NOUN\n",
        "    elif treebank_tag[0] == 'R':\n",
        "        return wordnet.ADV\n",
        "    else:\n",
        "        return ''\n",
        "\n",
        "\n",
        "# Pos tagging\n",
        "pos_tagged_words = pos_tag(sentence_words)\n",
        "print(pos_tagged_words)\n",
        "\n",
        "# convert to wordnet format\n",
        "wordnet_tagged = list(map(lambda x: (x[0], get_wordnet_pos(x[1])), pos_tagged_words))\n",
        "\n",
        "# lemmatization with pos tags\n",
        "wordnet_lemmatizer = WordNetLemmatizer()\n",
        "for words in sentence_words:\n",
        "    print(words + \" ---> \" + wordnet_lemmatizer.lemmatize(words))"
      ]
    }
  ],
  "metadata": {
    "kernelspec": {
      "display_name": "Python 3",
      "language": "python",
      "name": "python3"
    },
    "language_info": {
      "codemirror_mode": {
        "name": "ipython",
        "version": 3
      },
      "file_extension": ".py",
      "mimetype": "text/x-python",
      "name": "python",
      "nbconvert_exporter": "python",
      "pygments_lexer": "ipython3",
      "version": "3.11.4"
    },
    "colab": {
      "provenance": [],
      "include_colab_link": true
    }
  },
  "nbformat": 4,
  "nbformat_minor": 0
}